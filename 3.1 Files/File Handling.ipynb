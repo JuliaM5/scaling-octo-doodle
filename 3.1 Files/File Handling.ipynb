{
 "cells": [
  {
   "cell_type": "markdown",
   "id": "8e720208",
   "metadata": {},
   "source": [
    "## Exercise File Handling"
   ]
  },
  {
   "cell_type": "markdown",
   "id": "0d4c57e4",
   "metadata": {
    "vscode": {
     "languageId": "plaintext"
    }
   },
   "source": [
    " Create a function that accepts a filename and number_of_lines. The function should do the following:\n",
    "Generate a random number from 1 to 1000 or a random word (from a pre-determined list) for number_of_lines times.\n",
    "To decided if it's a number or words use random and use a 50:50 ratio.\n",
    "You can set a pre-determined number of words; for instance a list with 5 fruits.\n",
    "After the number of items have been generated, store them in a file using the given filename making sure that every entry is on a new line."
   ]
  },
  {
   "cell_type": "code",
   "execution_count": 7,
   "id": "f42812fd",
   "metadata": {},
   "outputs": [],
   "source": [
    "import random\n",
    "\n",
    "def generate_random(filename,number_of_lines):\n",
    "    word_list = [\"orange\",\"banana\",\"kiwi\",\"mango\",\"pineapple\"]\n",
    "    data= []\n",
    "    for i in range(number_of_lines):\n",
    "        if random.randint(1, 2) == 1:\n",
    "            data.append(random.randint(0,100))\n",
    "        else:\n",
    "            data.append(random.choice(word_list))\n",
    "        with open(filename, \"w\") as file:\n",
    "            for item in data:\n",
    "                file.write(str(item)+\"\\n\")\n",
    "            \n"
   ]
  },
  {
   "cell_type": "code",
   "execution_count": 8,
   "id": "deff7b73",
   "metadata": {},
   "outputs": [],
   "source": [
    "# Use the previous function to generate a new file file_1.txt with 25 lines.\n",
    "generate_random('./file_1.txt', 25)"
   ]
  },
  {
   "cell_type": "code",
   "execution_count": null,
   "id": "80ef1d58",
   "metadata": {},
   "outputs": [
    {
     "name": "stdout",
     "output_type": "stream",
     "text": [
      "banana\n",
      "\n",
      "14\n",
      "\n",
      "kiwi\n",
      "\n",
      "mango\n",
      "\n",
      "82\n",
      "\n",
      "54\n",
      "\n",
      "kiwi\n",
      "\n",
      "banana\n",
      "\n",
      "59\n",
      "\n",
      "29\n",
      "\n",
      "pineapple\n",
      "\n",
      "mango\n",
      "\n",
      "56\n",
      "\n",
      "6\n",
      "\n",
      "pineapple\n",
      "\n",
      "mango\n",
      "\n",
      "4\n",
      "\n",
      "kiwi\n",
      "\n",
      "44\n",
      "\n",
      "33\n",
      "\n",
      "76\n",
      "\n",
      "banana\n",
      "\n",
      "71\n",
      "\n",
      "65\n",
      "\n",
      "mango\n",
      "\n"
     ]
    }
   ],
   "source": [
    "# Write a function that reads the content of a file (parameter) and prints every line to the console.\n",
    "def read_file(filename):\n",
    "    with open(filename, 'r') as file:\n",
    "        for line in file:\n",
    "            print(line)\n",
    "\n",
    "read_file('./file_1.txt')"
   ]
  },
  {
   "cell_type": "code",
   "execution_count": 12,
   "id": "2fe6c66f",
   "metadata": {},
   "outputs": [
    {
     "data": {
      "text/plain": [
       "25"
      ]
     },
     "execution_count": 12,
     "metadata": {},
     "output_type": "execute_result"
    }
   ],
   "source": [
    "#  Write a function that takes a filename as input and returns the number of lines in the file.\n",
    "def count_file_lines(filename):\n",
    "    with open(filename, 'r') as file:\n",
    "        lines = 0\n",
    "        for line in file:\n",
    "            lines+=1\n",
    "    return lines\n",
    "\n",
    "count_file_lines('./file_1.txt')"
   ]
  },
  {
   "cell_type": "code",
   "execution_count": 13,
   "id": "a4f7909e",
   "metadata": {},
   "outputs": [],
   "source": [
    "# Write a function that copies the content of a source file to a new destination file both must be passed as parameters.\n",
    "def copy_file(source, destination):\n",
    "    with open(source, 'r') as src, open(destination, \"w\") as dest:\n",
    "        dest.write(src.read())\n",
    "\n",
    "copy_file(\"./file_1.txt\", \"./file_1_copy.txt\")"
   ]
  },
  {
   "cell_type": "code",
   "execution_count": 14,
   "id": "40d2d6fc",
   "metadata": {},
   "outputs": [
    {
     "name": "stdout",
     "output_type": "stream",
     "text": [
      "593\n"
     ]
    }
   ],
   "source": [
    "# Assuming you have a file a combination of numbers and/or strings per line. Write a function that calculates the sum of the number values only.\n",
    "\n",
    "def calculate_sum(filename):\n",
    "    with open(filename, \"r\") as file:\n",
    "        total = 0\n",
    "        for line in file:\n",
    "            try:\n",
    "                total += int(line)\n",
    "            except:\n",
    "                continue\n",
    "    return total\n",
    "\n",
    "print(calculate_sum(\"./file_1.txt\"))\n"
   ]
  },
  {
   "cell_type": "code",
   "execution_count": 16,
   "id": "7d2a6bd6",
   "metadata": {},
   "outputs": [
    {
     "ename": "FileNotFoundError",
     "evalue": "[Errno 2] No such file or directory: './dashboard.txt'",
     "output_type": "error",
     "traceback": [
      "\u001b[31m---------------------------------------------------------------------------\u001b[39m",
      "\u001b[31mFileNotFoundError\u001b[39m                         Traceback (most recent call last)",
      "\u001b[36mCell\u001b[39m\u001b[36m \u001b[39m\u001b[32mIn[16]\u001b[39m\u001b[32m, line 14\u001b[39m\n\u001b[32m     11\u001b[39m                 characters += \u001b[38;5;28mlen\u001b[39m(word)\n\u001b[32m     12\u001b[39m     \u001b[38;5;28;01mreturn\u001b[39;00m \u001b[38;5;28mlen\u001b[39m(lines), words, characters\n\u001b[32m---> \u001b[39m\u001b[32m14\u001b[39m \u001b[38;5;28mprint\u001b[39m(\u001b[43mfile_stats\u001b[49m\u001b[43m(\u001b[49m\u001b[33;43m\"\u001b[39;49m\u001b[33;43m./dashboard.txt\u001b[39;49m\u001b[33;43m\"\u001b[39;49m\u001b[43m)\u001b[49m)\n",
      "\u001b[36mCell\u001b[39m\u001b[36m \u001b[39m\u001b[32mIn[16]\u001b[39m\u001b[32m, line 3\u001b[39m, in \u001b[36mfile_stats\u001b[39m\u001b[34m(filename)\u001b[39m\n\u001b[32m      2\u001b[39m \u001b[38;5;28;01mdef\u001b[39;00m\u001b[38;5;250m \u001b[39m\u001b[34mfile_stats\u001b[39m(filename):\n\u001b[32m----> \u001b[39m\u001b[32m3\u001b[39m     \u001b[38;5;28;01mwith\u001b[39;00m \u001b[38;5;28;43mopen\u001b[39;49m\u001b[43m(\u001b[49m\u001b[43mfilename\u001b[49m\u001b[43m,\u001b[49m\u001b[43m \u001b[49m\u001b[33;43m\"\u001b[39;49m\u001b[33;43mr\u001b[39;49m\u001b[33;43m\"\u001b[39;49m\u001b[43m)\u001b[49m \u001b[38;5;28;01mas\u001b[39;00m file:\n\u001b[32m      4\u001b[39m         lines = file.readlines()\n\u001b[32m      5\u001b[39m         words = \u001b[32m0\u001b[39m\n",
      "\u001b[36mFile \u001b[39m\u001b[32mc:\\Users\\Julia Muscat\\Documents\\Programming for Data Science\\mcast.pds.julia_muscat\\env\\Lib\\site-packages\\IPython\\core\\interactiveshell.py:326\u001b[39m, in \u001b[36m_modified_open\u001b[39m\u001b[34m(file, *args, **kwargs)\u001b[39m\n\u001b[32m    319\u001b[39m \u001b[38;5;28;01mif\u001b[39;00m file \u001b[38;5;129;01min\u001b[39;00m {\u001b[32m0\u001b[39m, \u001b[32m1\u001b[39m, \u001b[32m2\u001b[39m}:\n\u001b[32m    320\u001b[39m     \u001b[38;5;28;01mraise\u001b[39;00m \u001b[38;5;167;01mValueError\u001b[39;00m(\n\u001b[32m    321\u001b[39m         \u001b[33mf\u001b[39m\u001b[33m\"\u001b[39m\u001b[33mIPython won\u001b[39m\u001b[33m'\u001b[39m\u001b[33mt let you open fd=\u001b[39m\u001b[38;5;132;01m{\u001b[39;00mfile\u001b[38;5;132;01m}\u001b[39;00m\u001b[33m by default \u001b[39m\u001b[33m\"\u001b[39m\n\u001b[32m    322\u001b[39m         \u001b[33m\"\u001b[39m\u001b[33mas it is likely to crash IPython. If you know what you are doing, \u001b[39m\u001b[33m\"\u001b[39m\n\u001b[32m    323\u001b[39m         \u001b[33m\"\u001b[39m\u001b[33myou can use builtins\u001b[39m\u001b[33m'\u001b[39m\u001b[33m open.\u001b[39m\u001b[33m\"\u001b[39m\n\u001b[32m    324\u001b[39m     )\n\u001b[32m--> \u001b[39m\u001b[32m326\u001b[39m \u001b[38;5;28;01mreturn\u001b[39;00m \u001b[43mio_open\u001b[49m\u001b[43m(\u001b[49m\u001b[43mfile\u001b[49m\u001b[43m,\u001b[49m\u001b[43m \u001b[49m\u001b[43m*\u001b[49m\u001b[43margs\u001b[49m\u001b[43m,\u001b[49m\u001b[43m \u001b[49m\u001b[43m*\u001b[49m\u001b[43m*\u001b[49m\u001b[43mkwargs\u001b[49m\u001b[43m)\u001b[49m\n",
      "\u001b[31mFileNotFoundError\u001b[39m: [Errno 2] No such file or directory: './dashboard.txt'"
     ]
    }
   ],
   "source": [
    "#Write a function that takes a filename and prints a dashboard of information: number of lines, number of words, number of characters.\n",
    "def file_stats(filename):\n",
    "    with open(filename, \"r\") as file:\n",
    "        lines = file.readlines()\n",
    "        words = 0\n",
    "        characters = 0\n",
    "        for line in lines:\n",
    "            split_words = line.split()\n",
    "            words += len(split_words)\n",
    "            for word in split_words:\n",
    "                characters += len(word)\n",
    "    return len(lines), words, characters\n",
    "\n",
    "print(file_stats(\"./dashboard.txt\"))\n"
   ]
  },
  {
   "cell_type": "markdown",
   "id": "c9d4609d",
   "metadata": {},
   "source": [
    "Write a function that takes a filename (for this example pass ibm_log.txt). The function must return a dictionary with every log file category, and the number of times it appeared.\n",
    "\n",
    "Every line in the log file is as follows: 03/22 08:51:01 INFO   :.main: Using log level 511\n",
    "We can consider the label to be INFO in this case.\n",
    "Make sure that keys are cleaned (remove :) before adding them to dictionary.\n",
    "Finally, return a dictionary with all the keys and the number of times they appear"
   ]
  },
  {
   "cell_type": "code",
   "execution_count": 17,
   "id": "0c3f90c9",
   "metadata": {},
   "outputs": [
    {
     "ename": "FileNotFoundError",
     "evalue": "[Errno 2] No such file or directory: './ibm_log.txt'",
     "output_type": "error",
     "traceback": [
      "\u001b[31m---------------------------------------------------------------------------\u001b[39m",
      "\u001b[31mFileNotFoundError\u001b[39m                         Traceback (most recent call last)",
      "\u001b[36mCell\u001b[39m\u001b[36m \u001b[39m\u001b[32mIn[17]\u001b[39m\u001b[32m, line 16\u001b[39m\n\u001b[32m     13\u001b[39m                 \u001b[38;5;28;01mcontinue\u001b[39;00m\n\u001b[32m     14\u001b[39m         \u001b[38;5;28;01mreturn\u001b[39;00m counts\n\u001b[32m---> \u001b[39m\u001b[32m16\u001b[39m \u001b[43mprocess_log_file\u001b[49m\u001b[43m(\u001b[49m\u001b[33;43m\"\u001b[39;49m\u001b[33;43m./ibm_log.txt\u001b[39;49m\u001b[33;43m\"\u001b[39;49m\u001b[43m)\u001b[49m\n",
      "\u001b[36mCell\u001b[39m\u001b[36m \u001b[39m\u001b[32mIn[17]\u001b[39m\u001b[32m, line 2\u001b[39m, in \u001b[36mprocess_log_file\u001b[39m\u001b[34m(filename)\u001b[39m\n\u001b[32m      1\u001b[39m \u001b[38;5;28;01mdef\u001b[39;00m\u001b[38;5;250m \u001b[39m\u001b[34mprocess_log_file\u001b[39m(filename):\n\u001b[32m----> \u001b[39m\u001b[32m2\u001b[39m     \u001b[38;5;28;01mwith\u001b[39;00m \u001b[38;5;28;43mopen\u001b[39;49m\u001b[43m(\u001b[49m\u001b[43mfilename\u001b[49m\u001b[43m,\u001b[49m\u001b[43m \u001b[49m\u001b[33;43m\"\u001b[39;49m\u001b[33;43mr\u001b[39;49m\u001b[33;43m\"\u001b[39;49m\u001b[43m)\u001b[49m \u001b[38;5;28;01mas\u001b[39;00m file:\n\u001b[32m      3\u001b[39m         counts = {}\n\u001b[32m      4\u001b[39m         \u001b[38;5;28;01mfor\u001b[39;00m line \u001b[38;5;129;01min\u001b[39;00m file:\n",
      "\u001b[36mFile \u001b[39m\u001b[32mc:\\Users\\Julia Muscat\\Documents\\Programming for Data Science\\mcast.pds.julia_muscat\\env\\Lib\\site-packages\\IPython\\core\\interactiveshell.py:326\u001b[39m, in \u001b[36m_modified_open\u001b[39m\u001b[34m(file, *args, **kwargs)\u001b[39m\n\u001b[32m    319\u001b[39m \u001b[38;5;28;01mif\u001b[39;00m file \u001b[38;5;129;01min\u001b[39;00m {\u001b[32m0\u001b[39m, \u001b[32m1\u001b[39m, \u001b[32m2\u001b[39m}:\n\u001b[32m    320\u001b[39m     \u001b[38;5;28;01mraise\u001b[39;00m \u001b[38;5;167;01mValueError\u001b[39;00m(\n\u001b[32m    321\u001b[39m         \u001b[33mf\u001b[39m\u001b[33m\"\u001b[39m\u001b[33mIPython won\u001b[39m\u001b[33m'\u001b[39m\u001b[33mt let you open fd=\u001b[39m\u001b[38;5;132;01m{\u001b[39;00mfile\u001b[38;5;132;01m}\u001b[39;00m\u001b[33m by default \u001b[39m\u001b[33m\"\u001b[39m\n\u001b[32m    322\u001b[39m         \u001b[33m\"\u001b[39m\u001b[33mas it is likely to crash IPython. If you know what you are doing, \u001b[39m\u001b[33m\"\u001b[39m\n\u001b[32m    323\u001b[39m         \u001b[33m\"\u001b[39m\u001b[33myou can use builtins\u001b[39m\u001b[33m'\u001b[39m\u001b[33m open.\u001b[39m\u001b[33m\"\u001b[39m\n\u001b[32m    324\u001b[39m     )\n\u001b[32m--> \u001b[39m\u001b[32m326\u001b[39m \u001b[38;5;28;01mreturn\u001b[39;00m \u001b[43mio_open\u001b[49m\u001b[43m(\u001b[49m\u001b[43mfile\u001b[49m\u001b[43m,\u001b[49m\u001b[43m \u001b[49m\u001b[43m*\u001b[49m\u001b[43margs\u001b[49m\u001b[43m,\u001b[49m\u001b[43m \u001b[49m\u001b[43m*\u001b[49m\u001b[43m*\u001b[49m\u001b[43mkwargs\u001b[49m\u001b[43m)\u001b[49m\n",
      "\u001b[31mFileNotFoundError\u001b[39m: [Errno 2] No such file or directory: './ibm_log.txt'"
     ]
    }
   ],
   "source": [
    "def process_log_file(filename):\n",
    "    with open(filename, \"r\") as file:\n",
    "        counts = {}\n",
    "        for line in file:\n",
    "            split_line = line.split()\n",
    "            try:\n",
    "                key = split_line[2].replace(\":\",\"\")\n",
    "                if key not in counts:\n",
    "                    counts[key]=1\n",
    "                else:\n",
    "                    counts[key]+=1\n",
    "            except:\n",
    "                continue\n",
    "        return counts\n",
    "\n",
    "process_log_file(\"./ibm_log.txt\")"
   ]
  }
 ],
 "metadata": {
  "kernelspec": {
   "display_name": "env",
   "language": "python",
   "name": "python3"
  },
  "language_info": {
   "codemirror_mode": {
    "name": "ipython",
    "version": 3
   },
   "file_extension": ".py",
   "mimetype": "text/x-python",
   "name": "python",
   "nbconvert_exporter": "python",
   "pygments_lexer": "ipython3",
   "version": "3.12.10"
  }
 },
 "nbformat": 4,
 "nbformat_minor": 5
}
