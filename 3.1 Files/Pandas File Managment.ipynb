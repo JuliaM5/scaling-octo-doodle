{
 "cells": [
  {
   "cell_type": "markdown",
   "id": "7352c8bb",
   "metadata": {},
   "source": [
    "# Excercise Pandas File Managment "
   ]
  },
  {
   "cell_type": "code",
   "execution_count": null,
   "id": "c04fef31",
   "metadata": {},
   "outputs": [
    {
     "ename": "ModuleNotFoundError",
     "evalue": "No module named 'pandas'",
     "output_type": "error",
     "traceback": [
      "\u001b[31m---------------------------------------------------------------------------\u001b[39m",
      "\u001b[31mModuleNotFoundError\u001b[39m                       Traceback (most recent call last)",
      "\u001b[36mCell\u001b[39m\u001b[36m \u001b[39m\u001b[32mIn[1]\u001b[39m\u001b[32m, line 2\u001b[39m\n\u001b[32m      1\u001b[39m \u001b[38;5;66;03m# Write a script using pandas to read a CSV file named sales.csv and print the first 5 rows.\u001b[39;00m\n\u001b[32m----> \u001b[39m\u001b[32m2\u001b[39m \u001b[38;5;28;01mimport\u001b[39;00m\u001b[38;5;250m \u001b[39m\u001b[34;01mpandas\u001b[39;00m\u001b[38;5;250m \u001b[39m\u001b[38;5;28;01mas\u001b[39;00m\u001b[38;5;250m \u001b[39m\u001b[34;01mpd\u001b[39;00m\n\u001b[32m      4\u001b[39m sales = pd.read_csv(\u001b[33m\"\u001b[39m\u001b[33m./assets/sales.csv\u001b[39m\u001b[33m\"\u001b[39m)\n\u001b[32m      5\u001b[39m sales.head(\u001b[32m5\u001b[39m)\n",
      "\u001b[31mModuleNotFoundError\u001b[39m: No module named 'pandas'"
     ]
    }
   ],
   "source": [
    "# Write a script using pandas to read a CSV file named sales.csv and print the first 5 rows.\n",
    "import pandas as pd\n",
    "\n",
    "sales = pd.read_csv(\"./sales.csv\")\n",
    "sales.head(5)"
   ]
  },
  {
   "cell_type": "code",
   "execution_count": null,
   "id": "6336beb5",
   "metadata": {},
   "outputs": [
    {
     "ename": "ModuleNotFoundError",
     "evalue": "No module named 'pandas'",
     "output_type": "error",
     "traceback": [
      "\u001b[31m---------------------------------------------------------------------------\u001b[39m",
      "\u001b[31mModuleNotFoundError\u001b[39m                       Traceback (most recent call last)",
      "\u001b[36mCell\u001b[39m\u001b[36m \u001b[39m\u001b[32mIn[2]\u001b[39m\u001b[32m, line 2\u001b[39m\n\u001b[32m      1\u001b[39m \u001b[38;5;66;03m# Modify the script from Question 1 to write the read DataFrame to a new CSV file named sales_copy.csv, excluding the index.\u001b[39;00m\n\u001b[32m----> \u001b[39m\u001b[32m2\u001b[39m \u001b[38;5;28;01mimport\u001b[39;00m\u001b[38;5;250m \u001b[39m\u001b[34;01mpandas\u001b[39;00m\u001b[38;5;250m \u001b[39m\u001b[38;5;28;01mas\u001b[39;00m\u001b[38;5;250m \u001b[39m\u001b[34;01mpd\u001b[39;00m\n\u001b[32m      3\u001b[39m sales = pd.read_csv(\u001b[33m\"\u001b[39m\u001b[33m./assets/sales.csv\u001b[39m\u001b[33m\"\u001b[39m)\n\u001b[32m      4\u001b[39m sales.to_csv(\u001b[33m\"\u001b[39m\u001b[33m./assets/sales_copy.csv\u001b[39m\u001b[33m\"\u001b[39m, index=\u001b[38;5;28;01mFalse\u001b[39;00m)\n",
      "\u001b[31mModuleNotFoundError\u001b[39m: No module named 'pandas'"
     ]
    }
   ],
   "source": [
    "# Modify the script from Question 1 to write the read DataFrame to a new CSV file named sales_copy.csv, excluding the index.\n",
    "import pandas as pd\n",
    "sales = pd.read_csv(\"./sales.csv\")\n",
    "sales.to_csv(\"./sales_copy.csv\", index=False)"
   ]
  },
  {
   "cell_type": "code",
   "execution_count": null,
   "id": "92ab03c9",
   "metadata": {},
   "outputs": [],
   "source": [
    "# Write a script to read an Excel file named inventory.xlsx from the sheet named stock and print the first 5 rows.\n",
    "import pandas as pd\n",
    "\n",
    "df_inventory = pd.read_excel(\"./inventory.xlsx\", sheet_name=\"Stock\")\n",
    "df_inventory.head(5)\n"
   ]
  },
  {
   "cell_type": "code",
   "execution_count": null,
   "id": "0f484897",
   "metadata": {},
   "outputs": [],
   "source": [
    "# Modify the script from Question 3 to write the DataFrame to a new Excel file named inventory_copy.xlsx with the sheet name as \"Inventory\".\n",
    "import pandas as pd\n",
    "\n",
    "df_inventory = pd.read_excel(\"./inventory.xlsx\", sheet_name=\"Stock\")\n",
    "df_inventory.to_excel(\"./inventory_copy.xlsx\", sheet_name=\"Inventory\", index=False)"
   ]
  },
  {
   "cell_type": "code",
   "execution_count": null,
   "id": "ddaf240c",
   "metadata": {},
   "outputs": [
    {
     "ename": "NameError",
     "evalue": "name 'pd' is not defined",
     "output_type": "error",
     "traceback": [
      "\u001b[31m---------------------------------------------------------------------------\u001b[39m",
      "\u001b[31mNameError\u001b[39m                                 Traceback (most recent call last)",
      "\u001b[36mCell\u001b[39m\u001b[36m \u001b[39m\u001b[32mIn[2]\u001b[39m\u001b[32m, line 3\u001b[39m\n\u001b[32m      1\u001b[39m \u001b[38;5;66;03m# Add error handling to the script from Question 1 to catch a FileNotFoundError when the sales.csv file does not exist, printing a user-friendly error message.\u001b[39;00m\n\u001b[32m      2\u001b[39m \u001b[38;5;28;01mtry\u001b[39;00m:\n\u001b[32m----> \u001b[39m\u001b[32m3\u001b[39m     sales = \u001b[43mpd\u001b[49m.read_csv(\u001b[33m\"\u001b[39m\u001b[33m/sales.cs\u001b[39m\u001b[33m\"\u001b[39m)\n\u001b[32m      4\u001b[39m     sales.head(\u001b[32m5\u001b[39m)\n\u001b[32m      5\u001b[39m \u001b[38;5;28;01mexcept\u001b[39;00m \u001b[38;5;167;01mFileNotFoundError\u001b[39;00m:\n",
      "\u001b[31mNameError\u001b[39m: name 'pd' is not defined"
     ]
    }
   ],
   "source": [
    "# Add error handling to the script from Question 1 to catch a FileNotFoundError when the sales.csv file does not exist, printing a user-friendly error message.\n",
    "import pandas as pd\n",
    "try:\n",
    "    sales = pd.read_csv(\"/sales.cs\")\n",
    "    sales.head(5)\n",
    "except FileNotFoundError:\n",
    "    print(\"Error: File Not Found :(\")"
   ]
  },
  {
   "cell_type": "code",
   "execution_count": null,
   "id": "8f1a1d68",
   "metadata": {},
   "outputs": [],
   "source": [
    "# Modify the script from the previous question to read only the columns date, product and quantity from the sales.csv file.\n",
    "import pandas as pd\n",
    "\n",
    "try:\n",
    "    sales = pd.read_csv(\"./assets/sales.csv\", usecols=[\"date\", \"product\", \"quantity\"])\n",
    "    print(sales.head(5))\n",
    "except FileNotFoundError:\n",
    "    print(\"Error: File Not Found :(\")"
   ]
  },
  {
   "cell_type": "code",
   "execution_count": 3,
   "id": "a1d06231",
   "metadata": {},
   "outputs": [
    {
     "ename": "ModuleNotFoundError",
     "evalue": "No module named 'pandas'",
     "output_type": "error",
     "traceback": [
      "\u001b[31m---------------------------------------------------------------------------\u001b[39m",
      "\u001b[31mModuleNotFoundError\u001b[39m                       Traceback (most recent call last)",
      "\u001b[36mCell\u001b[39m\u001b[36m \u001b[39m\u001b[32mIn[3]\u001b[39m\u001b[32m, line 2\u001b[39m\n\u001b[32m      1\u001b[39m \u001b[38;5;66;03m# Write a script to read a JSON file named customers.json and print the first 5 rows.\u001b[39;00m\n\u001b[32m----> \u001b[39m\u001b[32m2\u001b[39m \u001b[38;5;28;01mimport\u001b[39;00m\u001b[38;5;250m \u001b[39m\u001b[34;01mpandas\u001b[39;00m\u001b[38;5;250m \u001b[39m\u001b[38;5;28;01mas\u001b[39;00m\u001b[38;5;250m \u001b[39m\u001b[34;01mpd\u001b[39;00m\n\u001b[32m      4\u001b[39m clients = pd.read_json(\u001b[33m\"\u001b[39m\u001b[33m./clients.json\u001b[39m\u001b[33m\"\u001b[39m)\n\u001b[32m      5\u001b[39m clients.head(\u001b[32m5\u001b[39m)\n",
      "\u001b[31mModuleNotFoundError\u001b[39m: No module named 'pandas'"
     ]
    }
   ],
   "source": [
    "# Write a script to read a JSON file named customers.json and print the first 5 rows.\n",
    "import pandas as pd\n",
    "\n",
    "clients = pd.read_json(\"./clients.json\")\n",
    "clients.head(5)"
   ]
  },
  {
   "cell_type": "code",
   "execution_count": null,
   "id": "72a87438",
   "metadata": {},
   "outputs": [],
   "source": [
    "#change the previous script to write the DataFrame to a new JSON file named customers_copy.json. \n",
    "# Make sure to save them as individual records and every record in a new line (without array notation).\n",
    "import pandas as pd\n",
    "\n",
    "clients = pd.read_json(\"./clients.json\")\n",
    "clients.to_json(\"./clients_copy.json\", orient=\"records\", lines=True)"
   ]
  },
  {
   "cell_type": "code",
   "execution_count": null,
   "id": "6a537583",
   "metadata": {},
   "outputs": [],
   "source": [
    "# Write a script that shows all the sheet names available in an Excel file named data.xlsx.\n",
    "import pandas as pd\n",
    "\n",
    "excel = pd.ExcelFile(\"./data.xlsx\")\n",
    "print(excel.sheet_names)  "
   ]
  },
  {
   "cell_type": "code",
   "execution_count": null,
   "id": "16a8aa29",
   "metadata": {},
   "outputs": [],
   "source": [
    "#Combine two CSVs, sales_jan.csv and sales_feb.csv, into a new CSV named sales_janfeb.csv.\n",
    "import pandas as pd\n",
    "\n",
    "df_jan = pd.read_csv(\"./sales_jan.csv\")\n",
    "df_feb = pd.read_csv(\"./sales_feb.csv\")\n",
    "df = pd.concat([df_jan, df_feb])  # concat usedd to add strings together\n",
    "df.to_csv(\"./sales_janfeb.csv\", index=False)"
   ]
  },
  {
   "cell_type": "code",
   "execution_count": null,
   "id": "3dafe3f6",
   "metadata": {},
   "outputs": [],
   "source": [
    "# Write a script that reads the sales.csv file. \n",
    "# After loading it filter out records where the quantity is more than 50. Print the result of the filtered data.\n",
    "import pandas as pd\n",
    "\n",
    "data = pd.read_csv(\"./sales.csv\")\n",
    "data[data['quantity']>50]"
   ]
  },
  {
   "cell_type": "code",
   "execution_count": 4,
   "id": "df1411e1",
   "metadata": {},
   "outputs": [
    {
     "ename": "NameError",
     "evalue": "name 'pd' is not defined",
     "output_type": "error",
     "traceback": [
      "\u001b[31m---------------------------------------------------------------------------\u001b[39m",
      "\u001b[31mNameError\u001b[39m                                 Traceback (most recent call last)",
      "\u001b[36mCell\u001b[39m\u001b[36m \u001b[39m\u001b[32mIn[4]\u001b[39m\u001b[32m, line 5\u001b[39m\n\u001b[32m      2\u001b[39m chunk_size = \u001b[32m500\u001b[39m\n\u001b[32m      3\u001b[39m chunk_count = \u001b[32m1\u001b[39m\n\u001b[32m----> \u001b[39m\u001b[32m5\u001b[39m \u001b[38;5;28;01mfor\u001b[39;00m chunk \u001b[38;5;129;01min\u001b[39;00m \u001b[43mpd\u001b[49m.read_csv(\u001b[33m\"\u001b[39m\u001b[33m./big_file.csv\u001b[39m\u001b[33m\"\u001b[39m, chunksize=chunk_size):\n\u001b[32m      6\u001b[39m     \u001b[38;5;28mprint\u001b[39m(\u001b[33mf\u001b[39m\u001b[33m\"\u001b[39m\u001b[33mProcessing chunk \u001b[39m\u001b[38;5;132;01m{\u001b[39;00mchunk_count\u001b[38;5;132;01m}\u001b[39;00m\u001b[33m\"\u001b[39m)\n\u001b[32m      7\u001b[39m     chunk_count+=\u001b[32m1\u001b[39m\n",
      "\u001b[31mNameError\u001b[39m: name 'pd' is not defined"
     ]
    }
   ],
   "source": [
    "# Read the first three chunks from a file big_file.csv.\n",
    "chunk_size = 500\n",
    "chunk_count = 1\n",
    "\n",
    "for chunk in pd.read_csv(\"./big_file.csv\", chunksize=chunk_size):\n",
    "    print(f\"Processing chunk {chunk_count}\")\n",
    "    chunk_count+=1\n",
    "    if chunk_count>3:\n",
    "        break"
   ]
  }
 ],
 "metadata": {
  "kernelspec": {
   "display_name": "env",
   "language": "python",
   "name": "python3"
  },
  "language_info": {
   "codemirror_mode": {
    "name": "ipython",
    "version": 3
   },
   "file_extension": ".py",
   "mimetype": "text/x-python",
   "name": "python",
   "nbconvert_exporter": "python",
   "pygments_lexer": "ipython3",
   "version": "3.12.10"
  }
 },
 "nbformat": 4,
 "nbformat_minor": 5
}
